{
  "nbformat": 4,
  "nbformat_minor": 0,
  "metadata": {
    "colab": {
      "provenance": []
    },
    "kernelspec": {
      "name": "python3",
      "display_name": "Python 3"
    },
    "language_info": {
      "name": "python"
    }
  },
  "cells": [
    {
      "cell_type": "markdown",
      "source": [
        "FILE HANDLING PRACTICAL QUESTIONS"
      ],
      "metadata": {
        "id": "uryTJ6aFI2Y3"
      }
    },
    {
      "cell_type": "code",
      "execution_count": 17,
      "metadata": {
        "colab": {
          "base_uri": "https://localhost:8080/"
        },
        "id": "aeJvQbB8IcCf",
        "outputId": "380a0391-c706-4de5-9547-a3fb041ea305"
      },
      "outputs": [
        {
          "output_type": "stream",
          "name": "stdout",
          "text": [
            "11\n"
          ]
        }
      ],
      "source": [
        "#Q1.How can you open a file for writing in Python and write a string to it?\n",
        "with open(\"file.txt\",'w') as f:\n",
        "  print(f.write(\"ryan\\n,nole\\n\"))"
      ]
    },
    {
      "cell_type": "code",
      "source": [
        "#Q2.Write a Python program to read the contents of a file and print each line?\n",
        "with open(\"file.txt\",'r') as f:\n",
        "  print(f.readline())\n",
        "  print(f.readline())"
      ],
      "metadata": {
        "colab": {
          "base_uri": "https://localhost:8080/"
        },
        "id": "zw2aA9KCKKnW",
        "outputId": "dd9d144f-719f-44a4-d0e6-fb5bc6c818fd"
      },
      "execution_count": 18,
      "outputs": [
        {
          "output_type": "stream",
          "name": "stdout",
          "text": [
            "ryan\n",
            "\n",
            ",nole\n",
            "\n"
          ]
        }
      ]
    },
    {
      "cell_type": "code",
      "source": [
        "#Q3.How would you handle a case where the file doesn't exist while trying to open it for reading?\n",
        "try:\n",
        "  with open(\"file_txt.txt\",'r') as f:\n",
        "    print(f.read())\n",
        "except FileNotFoundError:\n",
        "  print(\"file not found\")\n"
      ],
      "metadata": {
        "colab": {
          "base_uri": "https://localhost:8080/"
        },
        "id": "kLzmE-LFMBkr",
        "outputId": "833538c8-1d67-406b-9643-a1f4f4e46b78"
      },
      "execution_count": 9,
      "outputs": [
        {
          "output_type": "stream",
          "name": "stdout",
          "text": [
            "file not found\n"
          ]
        }
      ]
    },
    {
      "cell_type": "code",
      "source": [
        "#Q4.Write a Python script that reads from one file and writes its content to another file?\n",
        "with open(\"file_script.txt\",'w') as f:\n",
        "  print(f.write(\"I love to do Python. What about you.\"))\n",
        "with open(\"file_script.txt\",'r') as f:\n",
        "  print(f.read())\n",
        "with open(\"file.txt\",'r') as f:\n",
        "  # Corrected line: call read() without an argument to read the entire file\n",
        "  print(f.read())"
      ],
      "metadata": {
        "colab": {
          "base_uri": "https://localhost:8080/"
        },
        "id": "SWJYQ3kaOvKQ",
        "outputId": "f4d99aec-b54d-42d9-b786-ce256f1b88ac"
      },
      "execution_count": 19,
      "outputs": [
        {
          "output_type": "stream",
          "name": "stdout",
          "text": [
            "36\n",
            "I love to do Python. What about you.\n",
            "ryan\n",
            ",nole\n",
            "\n"
          ]
        }
      ]
    },
    {
      "cell_type": "code",
      "source": [
        "#Q5.How would you catch and handle division by zero error in Python?\n",
        "try:\n",
        "  num=10/0\n",
        "  print(num)\n",
        "except ZeroDivisionError:\n",
        "  print(\"division by zero\")\n",
        "print(\"anything divisible by 0 is Error\")"
      ],
      "metadata": {
        "colab": {
          "base_uri": "https://localhost:8080/"
        },
        "id": "Qbtvua27Qe8J",
        "outputId": "10915a47-c444-4eb6-b4a5-81766bf6ef43"
      },
      "execution_count": 21,
      "outputs": [
        {
          "output_type": "stream",
          "name": "stdout",
          "text": [
            "division by zero\n",
            "anything divisible by 0 is Error\n"
          ]
        }
      ]
    },
    {
      "cell_type": "code",
      "source": [
        "#Q6.Write a Python program that logs an error message to a log file when a division by zero exception occurs?\n",
        "import logging\n",
        "logging.basicConfig(filename=\"error.log\",level=logging.ERROR) # Corrected function name\n",
        "try:\n",
        "  num=10/0\n",
        "  print(num)\n",
        "except ZeroDivisionError:\n",
        "  logging.error(\"division by zero\")"
      ],
      "metadata": {
        "colab": {
          "base_uri": "https://localhost:8080/"
        },
        "id": "9BBZZq59ETvX",
        "outputId": "386b294e-41af-4fb8-f023-8fcf0ccf40c2"
      },
      "execution_count": 2,
      "outputs": [
        {
          "output_type": "stream",
          "name": "stderr",
          "text": [
            "ERROR:root:division by zero\n"
          ]
        }
      ]
    },
    {
      "cell_type": "code",
      "source": [
        "#Q7.How do you log information at different levels (INFO, ERROR, WARNING) in Python using the logging module?\n",
        "import logging\n",
        "logging.basicConfig(level=logging.INFO,force=True)\n",
        "logging.info(\"this is an info message\")\n",
        "logging.error(\"this is an error message\")\n",
        "logging.warning(\"this is a warning message\")"
      ],
      "metadata": {
        "colab": {
          "base_uri": "https://localhost:8080/"
        },
        "id": "EKb_3GLsFU3X",
        "outputId": "124bfa61-45a3-4896-ce6b-2910cb36be72"
      },
      "execution_count": 4,
      "outputs": [
        {
          "output_type": "stream",
          "name": "stderr",
          "text": [
            "INFO:root:this is an info message\n",
            "ERROR:root:this is an error message\n",
            "WARNING:root:this is a warning message\n"
          ]
        }
      ]
    },
    {
      "cell_type": "code",
      "source": [
        "#Q8.Write a program to handle a file opening error using exception handling?\n",
        "try:\n",
        "  with open(\"file.txt\",'r') as f:\n",
        "    print(f.read())\n",
        "except FileNotFoundError:\n",
        "  print(\"file not found\")"
      ],
      "metadata": {
        "colab": {
          "base_uri": "https://localhost:8080/"
        },
        "id": "xjqRjWXXwR2n",
        "outputId": "1ae51038-f0f7-466e-9835-f5377490ab71"
      },
      "execution_count": 5,
      "outputs": [
        {
          "output_type": "stream",
          "name": "stdout",
          "text": [
            "file not found\n"
          ]
        }
      ]
    },
    {
      "cell_type": "code",
      "source": [
        "#Q9.How can you read a file line by line and store its content in a list in Python?\n",
        "text=[]\n",
        "with open(\"file.txt\",'w+') as f:\n",
        "  file=f.write(\"I love to play Tennis\\n,i saw you were playing cricket yesterday\\n\")\n",
        "  f.seek(0)\n",
        "  # Remove the incorrect f.write() call here\n",
        "  print(f.seek(0)) # This line will print the current position (0) after seeking\n",
        "  lines = f.readlines() # Read all lines into a list\n",
        "  for line in lines: # Iterate through the list of lines\n",
        "    text.append(line.strip()) # Append each line (stripped of whitespace) to the text list\n",
        "print(text)"
      ],
      "metadata": {
        "colab": {
          "base_uri": "https://localhost:8080/"
        },
        "id": "JCyb2OtWw0fj",
        "outputId": "ca7b991b-b9fa-4863-a198-975e540830d9"
      },
      "execution_count": 7,
      "outputs": [
        {
          "output_type": "stream",
          "name": "stdout",
          "text": [
            "0\n",
            "['I love to play Tennis', ',i saw you were playing cricket yesterday']\n"
          ]
        }
      ]
    },
    {
      "cell_type": "code",
      "source": [
        "#Q10.How can you append data to an existing file in Python?\n",
        "with open(\"new_file.txt\",'w') as f:\n",
        "  file=f.write(\"helloworld\")\n",
        "  print(file)\n",
        "with open(\"new_file.txt\",'a+') as f:\n",
        "  file2=f.write(\"heyaa guys\")\n",
        "  print(file2)\n",
        "  f.seek(0)\n",
        "  print(f.read())\n"
      ],
      "metadata": {
        "colab": {
          "base_uri": "https://localhost:8080/"
        },
        "id": "ubfzsAUkz3FL",
        "outputId": "15d7ec08-936b-414a-bc19-e2c303d88606"
      },
      "execution_count": 11,
      "outputs": [
        {
          "output_type": "stream",
          "name": "stdout",
          "text": [
            "10\n",
            "10\n",
            "helloworldheyaa guys\n"
          ]
        }
      ]
    },
    {
      "cell_type": "code",
      "source": [
        "#Q11.Write a Python program that uses a try-except block to handle an error when attempting to access a\n",
        "#dictionary key that doesn't exist.\n",
        "my_dict={\"name\":\"ryan\",\"age\":20,\"rollno\":2376084}\n",
        "try:\n",
        "  value=my_dict[\"hobby\"]\n",
        "  print(value)\n",
        "except KeyError:\n",
        "  print(\"key not found\")"
      ],
      "metadata": {
        "colab": {
          "base_uri": "https://localhost:8080/"
        },
        "id": "cHZrwioP0vPP",
        "outputId": "8f636efb-20b5-4466-9616-30d8fa0436d7"
      },
      "execution_count": 13,
      "outputs": [
        {
          "output_type": "stream",
          "name": "stdout",
          "text": [
            "key not found\n"
          ]
        }
      ]
    },
    {
      "cell_type": "code",
      "source": [
        "#Q12.Write a program that demonstrates using multiple except blocks to handle different types of exceptions.\n",
        "class numbererror(Exception):\n",
        "  def __init__(self,value):\n",
        "    self.value=value\n",
        "  def show(self):\n",
        "    return self.value\n",
        "try:\n",
        "  num=int(input(\"enter a number\"))\n",
        "  print(num)\n",
        "  num2=10/0\n",
        "  print(num2)\n",
        "except ValueError:\n",
        "  print(\"invalid input\")\n",
        "except ZeroDivisionError:\n",
        "  print(\"division by zero\")\n",
        "\n",
        "\n",
        "\n"
      ],
      "metadata": {
        "colab": {
          "base_uri": "https://localhost:8080/"
        },
        "id": "hxtBrvRX2w2d",
        "outputId": "afad58c9-c107-449e-c84c-57fb75f3b296"
      },
      "execution_count": 18,
      "outputs": [
        {
          "output_type": "stream",
          "name": "stdout",
          "text": [
            "enter a number0\n",
            "0\n",
            "division by zero\n"
          ]
        }
      ]
    },
    {
      "cell_type": "code",
      "source": [
        "#Q13.How would you check if a file exists before attempting to read it in Python?\n",
        "try:\n",
        "  with open(\"file.txt\",'r') as f:\n",
        "    file=f.read()\n",
        "    print(file)\n",
        "except:\n",
        "  print(\"file doesn't exists\")\n",
        "#it would print the upper file if it exists , if not then it will print the line after except."
      ],
      "metadata": {
        "colab": {
          "base_uri": "https://localhost:8080/"
        },
        "id": "8ynDjJeY7PC9",
        "outputId": "485d04f2-6f78-45f9-dbcf-9fbee325ee32"
      },
      "execution_count": 20,
      "outputs": [
        {
          "output_type": "stream",
          "name": "stdout",
          "text": [
            "I love to play Tennis\n",
            ",i saw you were playing cricket yesterday\n",
            "heyaaheyaa\n"
          ]
        }
      ]
    },
    {
      "cell_type": "code",
      "source": [
        "#Q14.Write a program that uses the logging module to log both informational and error messages.\n",
        "import logging\n",
        "logging.basicConfig(filename=\"app.log\",level=logging.DEBUG,format=\"%(asctime)s-%(levelname)s-%(message)s\")\n",
        "logging.info(\"the application has started successfully.\")\n",
        "try:\n",
        "  num=10/0\n",
        "  print(num)\n",
        "except ZeroDivisionError:\n",
        "  logging.error(\"division by zero\")"
      ],
      "metadata": {
        "colab": {
          "base_uri": "https://localhost:8080/"
        },
        "id": "Vv4KvpISHaOO",
        "outputId": "82ca761b-1852-4845-a974-aa7a9654a9e6"
      },
      "execution_count": 5,
      "outputs": [
        {
          "output_type": "stream",
          "name": "stderr",
          "text": [
            "INFO:root:the application has started successfully.\n",
            "ERROR:root:division by zero\n"
          ]
        }
      ]
    },
    {
      "cell_type": "code",
      "source": [
        "#Q15.Write a Python program that prints the content of a file and handles the case when the file is empty.\n",
        "def file_name(filename):\n",
        "  try:\n",
        "    with open(filename,'r') as f:\n",
        "      content=file.read()\n",
        "      if content.strip()==\"\":\n",
        "        print(\"file is empty\")\n",
        "      else:\n",
        "        print(content)\n",
        "  except FileNotFoundError:\n",
        "    print(f\"File '{filename}' not found\")\n",
        "  except Exception as e:\n",
        "    print(f\"an error occured:{e}\")\n",
        "filename=\"file.txt\"\n",
        "file_name(filename)\n"
      ],
      "metadata": {
        "colab": {
          "base_uri": "https://localhost:8080/"
        },
        "id": "4RIYE7lpJoST",
        "outputId": "a058cf0d-d1e1-4064-d57c-0b3e5149736b"
      },
      "execution_count": 6,
      "outputs": [
        {
          "output_type": "stream",
          "name": "stdout",
          "text": [
            "File 'file.txt' not found\n"
          ]
        }
      ]
    },
    {
      "cell_type": "code",
      "source": [
        "#Q16.Demonstrate how to use memory profiling to check the memory usage of a small program?\n",
        "!pip install memory_profiler\n",
        "from memory_profiler import profile\n",
        "@profile\n",
        "def create_list():\n",
        "  num=[i for i in range(1000000)]\n",
        "  print(f\"list created with {len(num)} elements:\")\n",
        "@profile\n",
        "def main():\n",
        "  create_list()\n",
        "if __name__==\"__main__\":\n",
        "  main()"
      ],
      "metadata": {
        "colab": {
          "base_uri": "https://localhost:8080/"
        },
        "id": "6HG-Ao36LILe",
        "outputId": "5400eed6-a86a-4f17-c65f-d0022666de62"
      },
      "execution_count": 8,
      "outputs": [
        {
          "output_type": "stream",
          "name": "stdout",
          "text": [
            "Collecting memory_profiler\n",
            "  Downloading memory_profiler-0.61.0-py3-none-any.whl.metadata (20 kB)\n",
            "Requirement already satisfied: psutil in /usr/local/lib/python3.11/dist-packages (from memory_profiler) (5.9.5)\n",
            "Downloading memory_profiler-0.61.0-py3-none-any.whl (31 kB)\n",
            "Installing collected packages: memory_profiler\n",
            "Successfully installed memory_profiler-0.61.0\n",
            "ERROR: Could not find file /tmp/ipython-input-174496961.py\n",
            "ERROR: Could not find file /tmp/ipython-input-174496961.py\n",
            "list created with 1000000 elements:\n"
          ]
        }
      ]
    },
    {
      "cell_type": "code",
      "source": [
        "#Q17.Write a Python program to create and write a list of numbers to a file, one number per line?\n",
        "num=[1,2,3,4,5]\n",
        "with open(\"file.list\",'w') as f:\n",
        "  for number in num: # Iterate through the list\n",
        "    f.write(str(number) + '\\n') # Convert each number to a string and write with a newline\n",
        "print(\"Numbers written to file.list\") # Add a confirmation message"
      ],
      "metadata": {
        "colab": {
          "base_uri": "https://localhost:8080/"
        },
        "id": "s9yKQoNo8kyc",
        "outputId": "81a9c22e-a0ba-416d-82d0-4008d0b1a711"
      },
      "execution_count": 22,
      "outputs": [
        {
          "output_type": "stream",
          "name": "stdout",
          "text": [
            "Numbers written to file.list\n"
          ]
        }
      ]
    },
    {
      "cell_type": "code",
      "source": [
        "#Q18.How would you implement a basic logging setup that logs to a file with rotation after 1MB.\n",
        "import logging\n",
        "from logging.handlers import RotatingFileHandler\n",
        "logger=logging.getLogger(\"my_logger\")\n",
        "Handler=RotatingFileHandler(\"mylog.log\",maxBytes=1048576,backupCount=3)\n",
        "logger.addHandler(Handler)\n",
        "logging.info(\"this is an info message\")"
      ],
      "metadata": {
        "colab": {
          "base_uri": "https://localhost:8080/"
        },
        "id": "t1taT1LZU6YD",
        "outputId": "dfbfbadc-bb08-41b4-ffd1-a522a347f39d"
      },
      "execution_count": 23,
      "outputs": [
        {
          "output_type": "stream",
          "name": "stderr",
          "text": [
            "INFO:root:this is an info message\n"
          ]
        }
      ]
    },
    {
      "cell_type": "code",
      "source": [
        "#Q19.Write a program that handles both IndexError and KeyError using a try-except block?\n",
        "list=[1,2,3,4,5]\n",
        "try:\n",
        "  access_index=list[8]\n",
        "  print(access_index)\n",
        "except IndexError:\n",
        "  print(\"not found\")\n",
        "dict={\"name\":\"ryan\",\"age\":20,\"rollno\":2376084}\n",
        "try:\n",
        "  access=dict[\"hobby\"]\n",
        "  print(access)\n",
        "except KeyError:\n",
        "  print(\"error is showing\")"
      ],
      "metadata": {
        "colab": {
          "base_uri": "https://localhost:8080/"
        },
        "id": "oqr2ir1ZKbW7",
        "outputId": "fbdd8f08-559e-4460-8d74-fd6f9aa7cb14"
      },
      "execution_count": 23,
      "outputs": [
        {
          "output_type": "stream",
          "name": "stdout",
          "text": [
            "not found\n",
            "error is showing\n"
          ]
        }
      ]
    },
    {
      "cell_type": "code",
      "source": [
        "#Q20.How would you open a file and read its contents using a context manager in Python.\n",
        "try:\n",
        " with open(\"example.txt\", \"r\") as file:\n",
        "    contents = file.read()\n",
        "    print(contents) # Moved inside the try block\n",
        "except FileNotFoundError:\n",
        "  print(\"file not found\")\n",
        "# Removed the print(contents) from here"
      ],
      "metadata": {
        "colab": {
          "base_uri": "https://localhost:8080/"
        },
        "id": "80HP63KvOx7A",
        "outputId": "52be4e33-47eb-4e99-8e64-448c31e71047"
      },
      "execution_count": 14,
      "outputs": [
        {
          "output_type": "stream",
          "name": "stdout",
          "text": [
            "file not found\n"
          ]
        }
      ]
    },
    {
      "cell_type": "code",
      "source": [
        "#Q21.Write a Python program that reads a file and prints the number of occurrences of a specific word.\n",
        "filename=input(\"enter a file name\")\n",
        "word_to_count=input(\"enter the words to count\")\n",
        "count=0\n",
        "try: # Added a try-except block to handle FileNotFoundError\n",
        "  with open(filename,'r') as f: # Use the filename variable from user input\n",
        "    for line in f: # Iterate through the file object 'f' to read line by line\n",
        "      words=line.lower().split()\n",
        "      for word in words:\n",
        "        # Remove punctuation from words before comparing (optional but good practice)\n",
        "        cleaned_word = ''.join(filter(str.isalnum, word))\n",
        "        if cleaned_word == word_to_count.lower():\n",
        "          count+=1\n",
        "  print(f\"The word '{word_to_count}' occurs {count} times in the file '{filename}'\") # Include filename in the output\n",
        "except FileNotFoundError:\n",
        "  print(f\"Error: File '{filename}' not found.\")\n",
        "except Exception as e: # Catch any other potential errors\n",
        "  print(f\"An error occurred: {e}\")"
      ],
      "metadata": {
        "colab": {
          "base_uri": "https://localhost:8080/"
        },
        "id": "p-_hS3PeWPBx",
        "outputId": "508bbb4a-c34f-44c7-a004-7282b6851a28"
      },
      "execution_count": 25,
      "outputs": [
        {
          "output_type": "stream",
          "name": "stdout",
          "text": [
            "enter a file nameexample.txt\n",
            "enter the words to countpython is ggodf  and easy to learn \n",
            "Error: File 'example.txt' not found.\n"
          ]
        }
      ]
    },
    {
      "cell_type": "code",
      "source": [
        "#Q22.How can you check if a file is empty before attempting to read its contents?\n",
        "try:\n",
        "  with open(\"file.txt\",'r') as f:\n",
        "    content = f.read() # Read the content once\n",
        "    if not content: # Check if the read content is empty\n",
        "      print(\"file is empty\")\n",
        "    else:\n",
        "      print(\"file is not empty\")\n",
        "      print(\"Content:\")\n",
        "      print(content) # Print the content if not empty\n",
        "except FileNotFoundError:\n",
        "  print(\"file.txt not found\")\n",
        "except Exception as e: # Catch any other potential errors\n",
        "  print(f\"An error occurred: {e}\")"
      ],
      "metadata": {
        "colab": {
          "base_uri": "https://localhost:8080/"
        },
        "id": "wB6o_ZCSQ7eV",
        "outputId": "4f73ce89-f8f3-42c7-f864-95dbbf06f7fa"
      },
      "execution_count": 18,
      "outputs": [
        {
          "output_type": "stream",
          "name": "stdout",
          "text": [
            "file.txt not found\n"
          ]
        }
      ]
    },
    {
      "cell_type": "code",
      "source": [
        "#Q23.Write a Python program that writes to a log file when an error occurs during file handling.\n",
        "import logging\n",
        "\n",
        "file_name = \"file.txt\"\n",
        "log_file = \"error.log\"\n",
        "\n",
        "# Configure logging to write to the specified log file\n",
        "logging.basicConfig(filename=log_file, level=logging.ERROR, format='%(asctime)s - %(levelname)s - %(message)s')\n",
        "\n",
        "try:\n",
        "  with open(file_name, 'r') as f:\n",
        "    print(f.read())\n",
        "except Exception as e:\n",
        "  # Log the error message to the file\n",
        "  logging.error(f\"Error handling file '{file_name}': {e}\")\n",
        "  print(f\"An error occurred and was logged to {log_file}\")"
      ],
      "metadata": {
        "colab": {
          "base_uri": "https://localhost:8080/"
        },
        "id": "a7NDNx6hScin",
        "outputId": "bb1cc331-b0ff-4243-816a-1d415eb81994"
      },
      "execution_count": 22,
      "outputs": [
        {
          "output_type": "stream",
          "name": "stderr",
          "text": [
            "ERROR:root:Error handling file 'file.txt': [Errno 2] No such file or directory: 'file.txt'\n"
          ]
        },
        {
          "output_type": "stream",
          "name": "stdout",
          "text": [
            "An error occurred and was logged to error.log\n"
          ]
        }
      ]
    },
    {
      "cell_type": "markdown",
      "source": [
        "FILE HANDLING THEORY QUESTIONS"
      ],
      "metadata": {
        "id": "KEptLCCSpN4f"
      }
    },
    {
      "cell_type": "markdown",
      "source": [
        "1.What is the difference between interpreted and compiled languages\n",
        "\n",
        "ANS=interpreted: Code runs line-by-line (e.g., Python).\n",
        "\n",
        "Compiled: Code is first converted to machine code, then executed\n",
        "\n",
        "2.What is exception handling in Python?\n",
        "\n",
        "ANS=It allows a program to handle errors gracefully using try, except, finally, and else blocks instead of crashing.\n",
        "\n",
        "3.What is the purpose of the finally block in exception handling?\n",
        "\n",
        "ANS=It always executes, whether an exception occurs or not.\n",
        "\n",
        "4.What is logging in Python?\n",
        "\n",
        "ANS=Logging is used to record messages (info, warnings, errors) during program execution.\n",
        "\n",
        "5.What is the significance of the del method in Python?\n",
        "\n",
        "ANS=del() is called when an object is destroyed. ✅ Used to release resources like files or network connections.\n",
        "\n",
        "6.What is the difference between import and from ... import in Python?\n",
        "\n",
        "ANS=import module:You access functions like module.func().\n",
        "\n",
        "from module import func: You directly use func().\n",
        "\n",
        "7.How can you handle multiple exceptions in Python?\n",
        "\n",
        "ANS=try:\n",
        "\n",
        "code\n",
        "except ValueError:\n",
        "\n",
        "handle ValueError\n",
        "except TypeError:\n",
        "\n",
        "Handle TypeError\n",
        "\n",
        "8.What is the purpose of the with statement when handling files in Python?\n",
        "\n",
        "ANS=Automatically opens and closes the file.\n",
        "\n",
        "✅ Prevents file leaks even if an error occurs.\n",
        "\n",
        "9.What is the difference between multithreading and multiprocessing?\n",
        "\n",
        "ANS=Multithreading:-Multiple threads in one process\n",
        "\n",
        "Multiprocessing:-Multiple processes\n",
        "\n",
        "10.What are the advantages of using logging in a program?**\n",
        "\n",
        "ANS=👉Tracks errors, events, and status\n",
        "\n",
        "👉Helps in debugging and monitoring\n",
        "\n",
        "👉Better than print() for real-world applications\n",
        "\n",
        "11.What is memory management in Python?\n",
        "\n",
        "ANS=Python automatically allocates and deallocates memory using a garbage collector. ✅ Keeps memory usage efficient and prevents leaks.\n",
        "\n",
        "12.what are the basic steps involved in exception handling in Python?\n",
        "\n",
        "ANS=try: Write risky code here\n",
        "\n",
        "except: Handle errors\n",
        "\n",
        "else: Runs if no error\n",
        "\n",
        "finally: Always runs (cleanup)\n",
        "\n",
        "13.Why is memory management important in Python?\n",
        "\n",
        "ANS=👉Prevents memory leaks\n",
        "👉Ensures programs use less memory\n",
        "👉Improves performance and stability\n",
        "\n",
        "14.What is the role of try and except in exception handling?\n",
        "\n",
        "ANS=try: Contains code that might raise an error.\n",
        "\n",
        "except: Contains code to handle the error if it occurs.\n",
        "\n",
        "15.How does Python's garbage collection system work?\n",
        "\n",
        "ANS=Python uses reference counting and a cyclic garbage collector to automatically free unused memory.\n",
        "\n",
        "16.What is the purpose of the else block in exception handling?\n",
        "\n",
        "ANS=Runs only if no exception occurs in the try block.\n",
        "\n",
        "✅ Useful for code that should execute only when the try block succeeds.\n",
        "\n",
        "17.What is the difference between os.fork() and multiprocessing in Python?\n",
        "\n",
        "ANS=The difference between os.fork() and multiprocessing in python are:-\n",
        "os.fork():\n",
        "\n",
        "👉Only available on Unix/Linux.\n",
        "\n",
        "👉Creates a child process using system-level call.\n",
        "\n",
        "multiprocessing:\n",
        "\n",
        "👉Cross-platform (works on Windows too).\n",
        "\n",
        "👉Provides a high-level API to create and manage processes.\n",
        "\n",
        "18.What is the importance of closing a file in Python?\n",
        "\n",
        "ANS=Frees up system resources.\n",
        "\n",
        "Ensures all data is written to the file (flushing buffers).\n",
        "\n",
        "✅ You can use with statement to auto-close the file.\n",
        "\n",
        "19.What is the difference between file.read() and file.readline() in Python?\n",
        "\n",
        "ANS=read() Reads entire file as a string\n",
        "\n",
        "readline() Reads one line at a time\n",
        "\n",
        "20.What is the logging module in Python used for?\n",
        "\n",
        "ANS=Used to record messages (info, warning, error) during code execution.\n",
        "\n",
        "21.What is the os module in Python used for in file handling?\n",
        "\n",
        "ANS=Provides OS-related functions, like:\n",
        "\n",
        "os.rename(), os.remove(), os.mkdir(), os.getcwd(), etc.\n",
        "\n",
        "22.What are the challenges associated with memory management in Python?\n",
        "\n",
        "ANS=Circular references (handled by garbage collector).\n",
        "\n",
        "Memory leaks due to lingering references.\n",
        "\n",
        "High memory usage with large datasets if not optimized.\n",
        "\n",
        "23.How do you raise an exception manually in Python?\n",
        "\n",
        "ANS=raise ValueError(\"Invalid input\")\n",
        "\n",
        "24.Why is it important to use multithreading in certain applications?\n",
        "\n",
        "ANS=Useful in I/O-bound tasks (file, network).\n",
        "\n",
        "Improves responsiveness (e.g., GUI apps).\n",
        "\n",
        "25.What are the common logging levels in Python?\n",
        "\n",
        "ANS=The common logging levels are:-\n",
        "\n",
        "1.debug\n",
        "\n",
        "2.info\n",
        "\n",
        "3.warning\n",
        "\n",
        "4.critical\n",
        "\n",
        "5.error"
      ],
      "metadata": {
        "id": "bj1JnO8spTUU"
      }
    }
  ]
}